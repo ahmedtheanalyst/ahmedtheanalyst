{
 "cells": [
  {
   "cell_type": "code",
   "execution_count": null,
   "id": "d63d986d",
   "metadata": {},
   "outputs": [],
   "source": [
    "#IMPORTING LIBRARIES\n",
    "import pandas as pd\n",
    "import numpy as np\n",
    "import matplotlib.pyplot as plt\n",
    "import seaborn as sns"
   ]
  },
  {
   "cell_type": "code",
   "execution_count": null,
   "id": "f551d287",
   "metadata": {},
   "outputs": [],
   "source": [
    "#IMPORTING DATABASES\n",
    "death = pd.read_excel('C:\\\\Users\\\\Maha Umer Farooq\\\\Downloads\\\\CovidDeaths.xlsx')\n",
    "vac= pd.read_excel('C:\\\\Users\\\\Maha Umer Farooq\\\\Downloads\\\\CovidVaccinations.xlsx')"
   ]
  },
  {
   "cell_type": "code",
   "execution_count": null,
   "id": "58caaa44",
   "metadata": {},
   "outputs": [],
   "source": [
    "death"
   ]
  },
  {
   "cell_type": "code",
   "execution_count": null,
   "id": "1ffbe99b",
   "metadata": {},
   "outputs": [],
   "source": [
    "#TO FIND CARDIOVASC DEATH RATE\n",
    "cardio=  death.groupby('location')['cardiovasc_death_rate'].mean().reset_index()\n",
    "cardio.sort_values(by='location')\n",
    "pak= cardio.loc[cardio.location=='Pakistan']\n",
    "pak"
   ]
  },
  {
   "cell_type": "code",
   "execution_count": null,
   "id": "0ec2495d",
   "metadata": {},
   "outputs": [],
   "source": [
    "#TO FIND TOTAL DEATHS IN ANY COUNTRY\n",
    "total_deaths=  death.groupby('location')['total_deaths'].sum().reset_index()\n",
    "total_deaths.sort_values(by='location')\n",
    "x= total_deaths.loc[total_deaths.location=='Pakistan']\n",
    "x"
   ]
  },
  {
   "cell_type": "code",
   "execution_count": null,
   "id": "a96f5195",
   "metadata": {},
   "outputs": [],
   "source": [
    "#PEOPLE DIED WHO WERE AGED 65+\n",
    "age_65= death.groupby('location')['aged_65_older'].sum().reset_index()\n",
    "age_65.sort_values(by='aged_65_older', ascending=True)\n",
    "age_65.head(10)\n",
    "a= age_65.loc[age_65['aged_65_older']>0]\n",
    "a.ascending=False\n",
    "a\n",
    "b=a.loc[a.location=='Pakistan']\n",
    "I=a.loc[a.location=='India']\n",
    "print(b,I)"
   ]
  },
  {
   "cell_type": "code",
   "execution_count": null,
   "id": "d196717c",
   "metadata": {},
   "outputs": [],
   "source": [
    "#MAKING THE DEATH RATE PERCENTAGE\n",
    "death['death_percentage']= (death['total_deaths'] / death['total_cases'] * 100)\n",
    "death_percentage =death.loc[death.location=='India']['death_percentage'].mean()\n",
    "death_percentage\n"
   ]
  },
  {
   "cell_type": "code",
   "execution_count": null,
   "id": "376d64ad",
   "metadata": {},
   "outputs": [],
   "source": [
    "#MAKING THE PEOPLE WHO GOT INFECTED WITH COVID PERCENTAGE\n",
    "death['people_got_covid_percentage']= (death['total_cases'] / death['population'] * 100)\n",
    "allinfected= death.loc[death.location =='China']['people_got_covid_percentage'].max()\n",
    "allinfected\n"
   ]
  },
  {
   "cell_type": "code",
   "execution_count": null,
   "id": "b62ef6da",
   "metadata": {},
   "outputs": [],
   "source": [
    "#MAKING THE PEOPLE WHO GOT VACCINATED PERCENGTAGE\n",
    "death['people_got_vaccinated_percentage']= (death['total_vaccinations'] / death['population'] * 100)\n",
    "allvaccinations= death.loc[death.location =='Pakistan']['people_got_vaccinated_percentage'].mean()\n",
    "allvaccinations"
   ]
  },
  {
   "cell_type": "code",
   "execution_count": null,
   "id": "ec7cceaa",
   "metadata": {},
   "outputs": [],
   "source": [
    "#FINDING THE LIFE EXPECTANCY PERCENTAGES\n",
    "life= death.loc[death.location =='Pakistan']['life_expectancy'].max()\n",
    "life"
   ]
  },
  {
   "cell_type": "markdown",
   "id": "73cb783b",
   "metadata": {},
   "source": [
    "***1:GRAPHING PAKISTAN AND INDIA:***"
   ]
  },
  {
   "cell_type": "code",
   "execution_count": null,
   "id": "cef80168",
   "metadata": {},
   "outputs": [],
   "source": [
    "#MAKING GRAPHS FOR PAKISTAN AND INDIA\n",
    "\n",
    "#data for pakistan\n",
    "pak1=death.loc[death.location== 'Pakistan']['people_got_covid_percentage'].max()\n",
    "pak2=death.loc[death.location=='Pakistan']['people_got_vaccinated_percentage'].mean()\n",
    "pak5=death.loc[death.location=='Pakistan']['death_percentage'].mean()\n",
    "\n",
    "#plotting\n",
    "plt.figure(figsize=(12, 4), dpi=500)\n",
    "plt.plot([pak1,pak2,pak5], marker='o', color='limegreen',markersize=8, label='Pakistan')\n",
    "\n",
    "#y=[0,20,40,60,80,100]\n",
    "#------------------------------------------------------------------------------------------------------------------------\n",
    "#data for india\n",
    "Ind1=death.loc[death.location== 'India']['people_got_covid_percentage'].max()\n",
    "Ind2=death.loc[death.location=='India']['people_got_vaccinated_percentage'].mean()\n",
    "Ind3=death.loc[death.location=='India']['death_percentage'].mean()\n",
    "plt.plot([Ind1,Ind2,Ind3], marker='o', color='dodgerblue',markersize=8, label='India')\n",
    "\n",
    "#-----------------------------------------------------------------------------------------------------------------------\n",
    "#graphing the data\n",
    "plt.xticks([0,1,2],['People Infected','People Vaccinated','Deaths'])  \n",
    "plt.yticks([0,0.3,0.6,0.9,1.2,1.5,1.8,2.1,2.4,2.7,3,3.3,3.6])\n",
    "plt.title('Comparison Of Two Countries')\n",
    "plt.legend()\n",
    "plt.grid()\n",
    "plt.show()    \n",
    "\n",
    "\n"
   ]
  },
  {
   "cell_type": "markdown",
   "id": "74b46e57",
   "metadata": {},
   "source": [
    "***2:ENTER THE NAME OF ANY COUNTRY YOU WANT TO GRAPH***"
   ]
  },
  {
   "cell_type": "code",
   "execution_count": null,
   "id": "4cdd8fa5",
   "metadata": {},
   "outputs": [],
   "source": [
    "#ENTER THE NAME OF THE COUNTRY TO SEE IT GRAPHICALLY\n",
    "\n",
    "c= input('Enter the name of the country: ')\n",
    "z1=death.loc[death.location== c]['people_got_covid_percentage'].max()\n",
    "z2=death.loc[death.location==c]['people_got_vaccinated_percentage'].mean()\n",
    "z3=death.loc[death.location==c]['death_percentage'].mean()\n",
    "\n",
    "#GRAPHING \n",
    "plt.figure(figsize=(12, 4), dpi=500)\n",
    "plt.plot([z1,z2,z3], label=c , marker='o', color='darkturquoise',markersize=8)\n",
    "plt.xticks([0,1,2],['People Infected','People Vaccinated','Deaths'])  \n",
    "plt.yticks([0,0.5,1,1.5,2,2.5,3,3.5,4,4.5,5,5.5,6,6.5,7,7.5,8,8.5,9])\n",
    "plt.title(c)\n",
    "plt.legend()\n",
    "plt.grid()\n",
    "plt.show()      \n",
    "\n"
   ]
  },
  {
   "cell_type": "markdown",
   "id": "91c6cdbe",
   "metadata": {},
   "source": [
    "***3:ENTER THE NAME OF THE COUNTRIES TO GRAPH BOTH:***"
   ]
  },
  {
   "cell_type": "code",
   "execution_count": null,
   "id": "8ff60820",
   "metadata": {},
   "outputs": [],
   "source": [
    "#data\n",
    "a=input('Enter the name of the country: ')\n",
    "c1=death.loc[death.location== a]['people_got_covid_percentage'].max()\n",
    "c2=death.loc[death.location== a]['people_got_vaccinated_percentage'].mean()\n",
    "c3=death.loc[death.location== a]['death_percentage'].mean()\n",
    "\n",
    "#plotting\n",
    "plt.figure(figsize=(12, 4), dpi=500)\n",
    "plt.plot([c1,c2,c3], marker='o', color='hotpink',markersize=8, label=a)\n",
    "\n",
    "#y=[0,20,40,60,80,100]\n",
    "#------------------------------------------------------------------------------------------------------------------------\n",
    "\n",
    "#data \n",
    "b=input('Enter the name of the country: ')\n",
    "d1=death.loc[death.location== b]['people_got_covid_percentage'].max()\n",
    "d2=death.loc[death.location== b]['people_got_vaccinated_percentage'].mean()\n",
    "d3=death.loc[death.location== b]['death_percentage'].mean()\n",
    "plt.plot([d1,d2,d3], marker='o', color='royalblue',markersize=8, label=b)\n",
    "\n",
    "#-----------------------------------------------------------------------------------------------------------------------\n",
    "#graphing the data\n",
    "plt.xticks([0,1,2],['People Infected','People Vaccinated','Deaths'])  \n",
    "plt.yticks([0,1,2,3,4,5,6,7,8,9,10,11,12,13,14,15,16,17,18,19,20])\n",
    "plt.title('Comparison Of Two Countries')\n",
    "plt.legend()\n",
    "plt.grid()\n",
    "plt.show()    "
   ]
  },
  {
   "cell_type": "markdown",
   "id": "41a4b85f",
   "metadata": {},
   "source": [
    "***4:IMPORTING VIEWS MADE IN SQL OF THIS DATABASE:***"
   ]
  },
  {
   "cell_type": "code",
   "execution_count": null,
   "id": "b68482ed",
   "metadata": {},
   "outputs": [],
   "source": [
    "#IMPORTING VIEWS MADE IN MYSQL DBRAVER OF COVID DATA TO GRAPH THEM.\n",
    "\n",
    "q3= pd.read_excel('C:\\\\Users\\\\Maha Umer Farooq\\\\OneDrive\\\\Desktop\\\\sql queries\\\\_3_to_find_new_cases_and_new_deaths_in_2020_in_pakistan.xlsx')\n",
    "q3.dropna(inplace=True)\n",
    "\n",
    "q4= pd.read_excel('C:\\\\Users\\\\Maha Umer Farooq\\\\OneDrive\\\\Desktop\\\\sql queries\\\\_4_to_find_new_cases_and_new_deaths_in_2021_in_pakistan.xlsx')\n",
    "q4.dropna(inplace=True)\n",
    "\n",
    "q5= pd.read_excel('C:\\\\Users\\\\Maha Umer Farooq\\\\OneDrive\\\\Desktop\\\\sql queries\\\\_5_to_find_all_the_deaths_and_cases_recorded_in_all_the_continents.xlsx')\n",
    "q5.dropna(inplace=True)\n",
    "\n",
    "q6= pd.read_excel('C:\\\\Users\\\\Maha Umer Farooq\\\\OneDrive\\\\Desktop\\\\sql queries\\\\_6_to_find_the_deaths_in_pakistan_on_the_month_of_september.xlsx')\n",
    "q6.dropna(inplace=True)\n",
    "\n",
    "q8= pd.read_excel('C:\\\\Users\\\\Maha Umer Farooq\\\\OneDrive\\\\Desktop\\\\sql queries\\\\_8_these_are_the_top_10_countries_with_the_most_death_rates.xlsx')\n",
    "q8.dropna(inplace=True)\n",
    "\n",
    "q9= pd.read_excel('C:\\\\Users\\\\Maha Umer Farooq\\\\OneDrive\\\\Desktop\\\\sql queries\\\\_9_to_find_total_deaths_and_total_cases_recorded_each_day_of_any.xlsx')\n",
    "q9.dropna(inplace=True)\n",
    "\n",
    "q1= pd.read_excel('C:\\\\Users\\\\Maha Umer Farooq\\\\OneDrive\\\\Desktop\\\\sql queries\\\\1_to find the people vaccinated in pak.xlsx')\n",
    "q1.dropna(inplace=True)\n"
   ]
  },
  {
   "cell_type": "markdown",
   "id": "61ee0363",
   "metadata": {},
   "source": [
    "***GRAPHING VIEWS MADE IN SQL***"
   ]
  },
  {
   "cell_type": "markdown",
   "id": "f168c730",
   "metadata": {},
   "source": [
    "***5:TOP 10 COUNTRIES WITH THE HIGHEST DEATH RATE AFTER GETTING INFECTED:***"
   ]
  },
  {
   "cell_type": "code",
   "execution_count": null,
   "id": "d765d28a",
   "metadata": {},
   "outputs": [],
   "source": [
    "#DEATH RATE PERCENGTAGES OF TOP 10 COUNTRIES INFECTED WITH COVID \n",
    "\n",
    "US=q8[q8.location=='United States']['death_percentage'].mean() \n",
    "IND=q8[q8.location=='India']['death_percentage'].mean() \n",
    "BRA=q8[q8.location=='Brazil']['death_percentage'].mean() \n",
    "FRA=q8[q8.location=='France']['death_percentage'].mean() \n",
    "UK=q8[q8.location=='United Kingdom']['death_percentage'].mean()\n",
    "SPAIN=q8[q8.location=='Spain']['death_percentage'].mean()\n",
    "ITL=q8[q8.location=='Italy']['death_percentage'].mean()\n",
    "TUR=q8[q8.location=='Turkey']['death_percentage'].mean()\n",
    "COL=q8[q8.location=='Colombia']['death_percentage'].mean()\n",
    "RUS=q8[q8.location=='Russia']['death_percentage'].mean()\n",
    "\n",
    "#----------------------------------------------------------------------------------------------------------------------------\n",
    "#GRAPHING\n",
    "\n",
    "plt.figure(figsize=(12, 4), dpi=500)\n",
    "\n",
    "x=plt.plot([US,IND,BRA,FRA,UK,SPAIN,ITL,TUR,COL,RUS],'ro', color='crimson', markersize=28)\n",
    "plt.grid()\n",
    "\n",
    "plt.ylabel('Death Percentage')\n",
    "plt.xticks([0,1,2,3,4,5,6,7,8,9],['US','India','Brazil','France','UK','Spain','Italy','Turkey','Colombia','Russia'])\n",
    "plt.yticks([0.5,1,1.5,2,2.5,3,3.5])\n",
    "plt.title('Death Rate Percentages From Infected Of Top 10 Countries')\n",
    "\n",
    "plt.legend()\n",
    "plt.show()"
   ]
  },
  {
   "cell_type": "markdown",
   "id": "e6edd8e3",
   "metadata": {},
   "source": [
    "***6:FINDING THE DEATH RATE PERCENTAGES OF INFECTED OCCURED IN ALL CONTINENTS:***"
   ]
  },
  {
   "cell_type": "code",
   "execution_count": null,
   "id": "3aad1bbb",
   "metadata": {},
   "outputs": [],
   "source": [
    "#FINDING THE DEATH RATE PERCENTAGES OF ALL THE DEATHS OCCURED IN EVERY CONTINENT\n",
    "\n",
    "africa= q5.loc[q5.continent=='Africa']['death_rate_percentage'].mean()\n",
    "eur= q5.loc[q5.continent=='Europe']['death_rate_percentage'].mean()\n",
    "NA= q5.loc[q5.continent=='North America']['death_rate_percentage'].mean()\n",
    "asia= q5.loc[q5.continent=='Asia']['death_rate_percentage'].mean()\n",
    "ocenia= q5.loc[q5.continent=='Oceania']['death_rate_percentage'].mean()\n",
    "SA= q5.loc[q5.continent=='South America']['death_rate_percentage'].mean()\n",
    "\n",
    "#---------------------------------------------------------------------------------------------------------------------------plt.plot([shooting,spassing,dribbling,lpassing,ballcontrol,sprint,stamina,reaction,jumping,longshots,balance], marker='o', color='darkturquoise',markersize=8, label=a)\n",
    "#GRAPHING\n",
    "\n",
    "plt.plot([africa,eur,NA,asia,ocenia,SA],'ro', color='crimson', markersize=27,)\n",
    "plt.xticks([0,1,2,3,4,5],['Africa','Europe','North America','Asia','Oceania','South America'])  \n",
    "plt.yticks([0.5,1,1.5,2,2.5,3,3.5,4])\n",
    "plt.title('Death Percentages Of Infected In All Continents Due To Covid')\n",
    "plt.legend()\n",
    "plt.grid()\n",
    "plt.show()      \n"
   ]
  },
  {
   "cell_type": "markdown",
   "id": "113775d5",
   "metadata": {},
   "source": [
    "***7:DEATHS IN PAKISTAN IN 2020 AND 2021:***"
   ]
  },
  {
   "cell_type": "code",
   "execution_count": null,
   "id": "808cc442",
   "metadata": {},
   "outputs": [],
   "source": [
    "#MAKE A PIECHAART AND SEE IN WHICH YEAR MORE DEATHS HAPPENED IN PAKISTAN\n",
    "\n",
    "deaths2020=q3['deaths_this_day'].sum()\n",
    "deaths2021=q4['deaths_this_day'].sum()\n",
    "labels=['2020','2021']\n",
    "colors=['darkred', 'lightsalmon']\n",
    "plt.pie([deaths2020,deaths2021], labels=labels, colors=colors, autopct='%.2f%%',wedgeprops = { 'linewidth' : 3, 'edgecolor' : 'white' })\n",
    "plt.title('DEATHS IN PAKISTAN DUE TO COVID IN 2020/2021')\n",
    "plt.show()\n",
    "\n",
    "\n"
   ]
  },
  {
   "cell_type": "code",
   "execution_count": null,
   "id": "2f09e277",
   "metadata": {},
   "outputs": [],
   "source": []
  }
 ],
 "metadata": {
  "kernelspec": {
   "display_name": "Python 3 (ipykernel)",
   "language": "python",
   "name": "python3"
  },
  "language_info": {
   "codemirror_mode": {
    "name": "ipython",
    "version": 3
   },
   "file_extension": ".py",
   "mimetype": "text/x-python",
   "name": "python",
   "nbconvert_exporter": "python",
   "pygments_lexer": "ipython3",
   "version": "3.11.1"
  }
 },
 "nbformat": 4,
 "nbformat_minor": 5
}
